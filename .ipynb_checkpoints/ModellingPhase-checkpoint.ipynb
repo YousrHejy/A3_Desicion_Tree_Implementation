{
 "cells": [
  {
   "cell_type": "code",
   "execution_count": 246,
   "id": "73b87fce",
   "metadata": {},
   "outputs": [],
   "source": [
    "import numpy as np\n",
    "import pandas as pd\n",
    "import seaborn as sns\n",
    "import matplotlib.pyplot as plt\n",
    "from sklearn.model_selection import train_test_split, GridSearchCV\n",
    "from sklearn.tree import DecisionTreeClassifier\n",
    "from sklearn import metrics\n",
    "from sklearn.metrics import accuracy_score, confusion_matrix, classification_report\n",
    "from sklearn.metrics import confusion_matrix, ConfusionMatrixDisplay\n",
    "from sklearn.preprocessing import StandardScaler\n",
    "# Implemented DecisionTree \n",
    "# from DecisionTree import DecisionTree"
   ]
  },
  {
   "cell_type": "code",
   "execution_count": 247,
   "id": "3b9b218f",
   "metadata": {},
   "outputs": [],
   "source": [
    "def data_analysis(data):\n",
    "    \n",
    "    # The shape of the data\n",
    "    print('The shape of the data set:')\n",
    "    print(f\"The data set consists of {data.shape[0]} rows and {data.shape[1]} columns.\")\n",
    "    \n",
    "    print('\\n***********************************************')\n",
    "    # Missing Values Check\n",
    "    print('The existence of missing values in each column:')\n",
    "    print(data.isnull().any())\n",
    "    \n",
    "    print('\\n***********************************************')\n",
    "    # Info of the data\n",
    "    print('General information about the data:')\n",
    "    print(data.info())\n",
    "    \n",
    "    print('\\n***********************************************')\n",
    "    # Number of unique values in each column\n",
    "    print('The number of unique values in each column:')\n",
    "    print(data.nunique())\n",
    "    \n",
    "# Function to check the classification report\n",
    "def classification_report_fun(model_name, actual, predicted):\n",
    "    print(f'The Classification Report for {model_name} Classifier:')\n",
    "    print(classification_report(actual, predicted))\n",
    " \n",
    " # Function to plot the confusion matrix:\n",
    "def cmatrix_fun(model_name, actual, predicted, color):\n",
    "    # check the confusion matrix\n",
    "    cm = confusion_matrix(actual, predicted) \n",
    "    print(cm)\n",
    "\n",
    "    # Plot the CM\n",
    "    ax = sns.heatmap(cm/np.sum(cm), annot=True, fmt='.2%', cmap=color)\n",
    "\n",
    "    ax.set_title(f'The confusion matrix using {model_name} Classifier \\n\\n');\n",
    "    ax.set_xlabel('\\nPredicted Values')\n",
    "    ax.set_ylabel('Actual Values ');\n",
    "\n",
    "    # Ticket labels - List must be in alphabetical order\n",
    "    ax.xaxis.set_ticklabels(['False','True'])\n",
    "    ax.yaxis.set_ticklabels(['False','True'])  \n",
    "    \n",
    "def accuracy(y_test, y_pred):\n",
    "        return np.sum(y_test == y_pred) / len(y_test)    "
   ]
  },
  {
   "cell_type": "code",
   "execution_count": 248,
   "id": "cb7c9ea5",
   "metadata": {},
   "outputs": [
    {
     "data": {
      "text/html": [
       "<div>\n",
       "<style scoped>\n",
       "    .dataframe tbody tr th:only-of-type {\n",
       "        vertical-align: middle;\n",
       "    }\n",
       "\n",
       "    .dataframe tbody tr th {\n",
       "        vertical-align: top;\n",
       "    }\n",
       "\n",
       "    .dataframe thead th {\n",
       "        text-align: right;\n",
       "    }\n",
       "</style>\n",
       "<table border=\"1\" class=\"dataframe\">\n",
       "  <thead>\n",
       "    <tr style=\"text-align: right;\">\n",
       "      <th></th>\n",
       "      <th>id</th>\n",
       "      <th>age</th>\n",
       "      <th>gender</th>\n",
       "      <th>height</th>\n",
       "      <th>weight</th>\n",
       "      <th>ap_hi</th>\n",
       "      <th>ap_lo</th>\n",
       "      <th>cholesterol</th>\n",
       "      <th>gluc</th>\n",
       "      <th>smoke</th>\n",
       "      <th>alco</th>\n",
       "      <th>active</th>\n",
       "      <th>cardio</th>\n",
       "    </tr>\n",
       "  </thead>\n",
       "  <tbody>\n",
       "    <tr>\n",
       "      <th>0</th>\n",
       "      <td>0</td>\n",
       "      <td>18393</td>\n",
       "      <td>2</td>\n",
       "      <td>168</td>\n",
       "      <td>62.0</td>\n",
       "      <td>110</td>\n",
       "      <td>80</td>\n",
       "      <td>1</td>\n",
       "      <td>1</td>\n",
       "      <td>0</td>\n",
       "      <td>0</td>\n",
       "      <td>1</td>\n",
       "      <td>0</td>\n",
       "    </tr>\n",
       "    <tr>\n",
       "      <th>1</th>\n",
       "      <td>1</td>\n",
       "      <td>20228</td>\n",
       "      <td>1</td>\n",
       "      <td>156</td>\n",
       "      <td>85.0</td>\n",
       "      <td>140</td>\n",
       "      <td>90</td>\n",
       "      <td>3</td>\n",
       "      <td>1</td>\n",
       "      <td>0</td>\n",
       "      <td>0</td>\n",
       "      <td>1</td>\n",
       "      <td>1</td>\n",
       "    </tr>\n",
       "    <tr>\n",
       "      <th>2</th>\n",
       "      <td>2</td>\n",
       "      <td>18857</td>\n",
       "      <td>1</td>\n",
       "      <td>165</td>\n",
       "      <td>64.0</td>\n",
       "      <td>130</td>\n",
       "      <td>70</td>\n",
       "      <td>3</td>\n",
       "      <td>1</td>\n",
       "      <td>0</td>\n",
       "      <td>0</td>\n",
       "      <td>0</td>\n",
       "      <td>1</td>\n",
       "    </tr>\n",
       "    <tr>\n",
       "      <th>3</th>\n",
       "      <td>3</td>\n",
       "      <td>17623</td>\n",
       "      <td>2</td>\n",
       "      <td>169</td>\n",
       "      <td>82.0</td>\n",
       "      <td>150</td>\n",
       "      <td>100</td>\n",
       "      <td>1</td>\n",
       "      <td>1</td>\n",
       "      <td>0</td>\n",
       "      <td>0</td>\n",
       "      <td>1</td>\n",
       "      <td>1</td>\n",
       "    </tr>\n",
       "    <tr>\n",
       "      <th>4</th>\n",
       "      <td>4</td>\n",
       "      <td>17474</td>\n",
       "      <td>1</td>\n",
       "      <td>156</td>\n",
       "      <td>56.0</td>\n",
       "      <td>100</td>\n",
       "      <td>60</td>\n",
       "      <td>1</td>\n",
       "      <td>1</td>\n",
       "      <td>0</td>\n",
       "      <td>0</td>\n",
       "      <td>0</td>\n",
       "      <td>0</td>\n",
       "    </tr>\n",
       "  </tbody>\n",
       "</table>\n",
       "</div>"
      ],
      "text/plain": [
       "   id    age  gender  height  weight  ap_hi  ap_lo  cholesterol  gluc  smoke  \\\n",
       "0   0  18393       2     168    62.0    110     80            1     1      0   \n",
       "1   1  20228       1     156    85.0    140     90            3     1      0   \n",
       "2   2  18857       1     165    64.0    130     70            3     1      0   \n",
       "3   3  17623       2     169    82.0    150    100            1     1      0   \n",
       "4   4  17474       1     156    56.0    100     60            1     1      0   \n",
       "\n",
       "   alco  active  cardio  \n",
       "0     0       1       0  \n",
       "1     0       1       1  \n",
       "2     0       0       1  \n",
       "3     0       1       1  \n",
       "4     0       0       0  "
      ]
     },
     "execution_count": 248,
     "metadata": {},
     "output_type": "execute_result"
    }
   ],
   "source": [
    "df = pd.read_csv('cardio_train.csv', delimiter=\";\")\n",
    "df.head()"
   ]
  },
  {
   "cell_type": "code",
   "execution_count": 249,
   "id": "526ecddc",
   "metadata": {},
   "outputs": [
    {
     "name": "stdout",
     "output_type": "stream",
     "text": [
      "The shape of the data set:\n",
      "The data set consists of 70000 rows and 13 columns.\n",
      "\n",
      "***********************************************\n",
      "The existence of missing values in each column:\n",
      "id             False\n",
      "age            False\n",
      "gender         False\n",
      "height         False\n",
      "weight         False\n",
      "ap_hi          False\n",
      "ap_lo          False\n",
      "cholesterol    False\n",
      "gluc           False\n",
      "smoke          False\n",
      "alco           False\n",
      "active         False\n",
      "cardio         False\n",
      "dtype: bool\n",
      "\n",
      "***********************************************\n",
      "General information about the data:\n",
      "<class 'pandas.core.frame.DataFrame'>\n",
      "RangeIndex: 70000 entries, 0 to 69999\n",
      "Data columns (total 13 columns):\n",
      " #   Column       Non-Null Count  Dtype  \n",
      "---  ------       --------------  -----  \n",
      " 0   id           70000 non-null  int64  \n",
      " 1   age          70000 non-null  int64  \n",
      " 2   gender       70000 non-null  int64  \n",
      " 3   height       70000 non-null  int64  \n",
      " 4   weight       70000 non-null  float64\n",
      " 5   ap_hi        70000 non-null  int64  \n",
      " 6   ap_lo        70000 non-null  int64  \n",
      " 7   cholesterol  70000 non-null  int64  \n",
      " 8   gluc         70000 non-null  int64  \n",
      " 9   smoke        70000 non-null  int64  \n",
      " 10  alco         70000 non-null  int64  \n",
      " 11  active       70000 non-null  int64  \n",
      " 12  cardio       70000 non-null  int64  \n",
      "dtypes: float64(1), int64(12)\n",
      "memory usage: 6.9 MB\n",
      "None\n",
      "\n",
      "***********************************************\n",
      "The number of unique values in each column:\n",
      "id             70000\n",
      "age             8076\n",
      "gender             2\n",
      "height           109\n",
      "weight           287\n",
      "ap_hi            153\n",
      "ap_lo            157\n",
      "cholesterol        3\n",
      "gluc               3\n",
      "smoke              2\n",
      "alco               2\n",
      "active             2\n",
      "cardio             2\n",
      "dtype: int64\n"
     ]
    }
   ],
   "source": [
    "data_analysis(df)"
   ]
  },
  {
   "cell_type": "code",
   "execution_count": 250,
   "id": "3407d2c3",
   "metadata": {},
   "outputs": [
    {
     "data": {
      "text/html": [
       "<div>\n",
       "<style scoped>\n",
       "    .dataframe tbody tr th:only-of-type {\n",
       "        vertical-align: middle;\n",
       "    }\n",
       "\n",
       "    .dataframe tbody tr th {\n",
       "        vertical-align: top;\n",
       "    }\n",
       "\n",
       "    .dataframe thead th {\n",
       "        text-align: right;\n",
       "    }\n",
       "</style>\n",
       "<table border=\"1\" class=\"dataframe\">\n",
       "  <thead>\n",
       "    <tr style=\"text-align: right;\">\n",
       "      <th></th>\n",
       "      <th>id</th>\n",
       "      <th>age</th>\n",
       "      <th>gender</th>\n",
       "      <th>height</th>\n",
       "      <th>weight</th>\n",
       "      <th>ap_hi</th>\n",
       "      <th>ap_lo</th>\n",
       "      <th>cholesterol</th>\n",
       "      <th>gluc</th>\n",
       "      <th>smoke</th>\n",
       "      <th>alco</th>\n",
       "      <th>active</th>\n",
       "      <th>cardio</th>\n",
       "    </tr>\n",
       "  </thead>\n",
       "  <tbody>\n",
       "    <tr>\n",
       "      <th>count</th>\n",
       "      <td>70000.000000</td>\n",
       "      <td>70000.000000</td>\n",
       "      <td>70000.000000</td>\n",
       "      <td>70000.000000</td>\n",
       "      <td>70000.000000</td>\n",
       "      <td>70000.000000</td>\n",
       "      <td>70000.000000</td>\n",
       "      <td>70000.000000</td>\n",
       "      <td>70000.000000</td>\n",
       "      <td>70000.000000</td>\n",
       "      <td>70000.000000</td>\n",
       "      <td>70000.000000</td>\n",
       "      <td>70000.000000</td>\n",
       "    </tr>\n",
       "    <tr>\n",
       "      <th>mean</th>\n",
       "      <td>49972.419900</td>\n",
       "      <td>19468.865814</td>\n",
       "      <td>1.349571</td>\n",
       "      <td>164.359229</td>\n",
       "      <td>74.205690</td>\n",
       "      <td>128.817286</td>\n",
       "      <td>96.630414</td>\n",
       "      <td>1.366871</td>\n",
       "      <td>1.226457</td>\n",
       "      <td>0.088129</td>\n",
       "      <td>0.053771</td>\n",
       "      <td>0.803729</td>\n",
       "      <td>0.499700</td>\n",
       "    </tr>\n",
       "    <tr>\n",
       "      <th>std</th>\n",
       "      <td>28851.302323</td>\n",
       "      <td>2467.251667</td>\n",
       "      <td>0.476838</td>\n",
       "      <td>8.210126</td>\n",
       "      <td>14.395757</td>\n",
       "      <td>154.011419</td>\n",
       "      <td>188.472530</td>\n",
       "      <td>0.680250</td>\n",
       "      <td>0.572270</td>\n",
       "      <td>0.283484</td>\n",
       "      <td>0.225568</td>\n",
       "      <td>0.397179</td>\n",
       "      <td>0.500003</td>\n",
       "    </tr>\n",
       "    <tr>\n",
       "      <th>min</th>\n",
       "      <td>0.000000</td>\n",
       "      <td>10798.000000</td>\n",
       "      <td>1.000000</td>\n",
       "      <td>55.000000</td>\n",
       "      <td>10.000000</td>\n",
       "      <td>-150.000000</td>\n",
       "      <td>-70.000000</td>\n",
       "      <td>1.000000</td>\n",
       "      <td>1.000000</td>\n",
       "      <td>0.000000</td>\n",
       "      <td>0.000000</td>\n",
       "      <td>0.000000</td>\n",
       "      <td>0.000000</td>\n",
       "    </tr>\n",
       "    <tr>\n",
       "      <th>25%</th>\n",
       "      <td>25006.750000</td>\n",
       "      <td>17664.000000</td>\n",
       "      <td>1.000000</td>\n",
       "      <td>159.000000</td>\n",
       "      <td>65.000000</td>\n",
       "      <td>120.000000</td>\n",
       "      <td>80.000000</td>\n",
       "      <td>1.000000</td>\n",
       "      <td>1.000000</td>\n",
       "      <td>0.000000</td>\n",
       "      <td>0.000000</td>\n",
       "      <td>1.000000</td>\n",
       "      <td>0.000000</td>\n",
       "    </tr>\n",
       "    <tr>\n",
       "      <th>50%</th>\n",
       "      <td>50001.500000</td>\n",
       "      <td>19703.000000</td>\n",
       "      <td>1.000000</td>\n",
       "      <td>165.000000</td>\n",
       "      <td>72.000000</td>\n",
       "      <td>120.000000</td>\n",
       "      <td>80.000000</td>\n",
       "      <td>1.000000</td>\n",
       "      <td>1.000000</td>\n",
       "      <td>0.000000</td>\n",
       "      <td>0.000000</td>\n",
       "      <td>1.000000</td>\n",
       "      <td>0.000000</td>\n",
       "    </tr>\n",
       "    <tr>\n",
       "      <th>75%</th>\n",
       "      <td>74889.250000</td>\n",
       "      <td>21327.000000</td>\n",
       "      <td>2.000000</td>\n",
       "      <td>170.000000</td>\n",
       "      <td>82.000000</td>\n",
       "      <td>140.000000</td>\n",
       "      <td>90.000000</td>\n",
       "      <td>2.000000</td>\n",
       "      <td>1.000000</td>\n",
       "      <td>0.000000</td>\n",
       "      <td>0.000000</td>\n",
       "      <td>1.000000</td>\n",
       "      <td>1.000000</td>\n",
       "    </tr>\n",
       "    <tr>\n",
       "      <th>max</th>\n",
       "      <td>99999.000000</td>\n",
       "      <td>23713.000000</td>\n",
       "      <td>2.000000</td>\n",
       "      <td>250.000000</td>\n",
       "      <td>200.000000</td>\n",
       "      <td>16020.000000</td>\n",
       "      <td>11000.000000</td>\n",
       "      <td>3.000000</td>\n",
       "      <td>3.000000</td>\n",
       "      <td>1.000000</td>\n",
       "      <td>1.000000</td>\n",
       "      <td>1.000000</td>\n",
       "      <td>1.000000</td>\n",
       "    </tr>\n",
       "  </tbody>\n",
       "</table>\n",
       "</div>"
      ],
      "text/plain": [
       "                 id           age        gender        height        weight  \\\n",
       "count  70000.000000  70000.000000  70000.000000  70000.000000  70000.000000   \n",
       "mean   49972.419900  19468.865814      1.349571    164.359229     74.205690   \n",
       "std    28851.302323   2467.251667      0.476838      8.210126     14.395757   \n",
       "min        0.000000  10798.000000      1.000000     55.000000     10.000000   \n",
       "25%    25006.750000  17664.000000      1.000000    159.000000     65.000000   \n",
       "50%    50001.500000  19703.000000      1.000000    165.000000     72.000000   \n",
       "75%    74889.250000  21327.000000      2.000000    170.000000     82.000000   \n",
       "max    99999.000000  23713.000000      2.000000    250.000000    200.000000   \n",
       "\n",
       "              ap_hi         ap_lo   cholesterol          gluc         smoke  \\\n",
       "count  70000.000000  70000.000000  70000.000000  70000.000000  70000.000000   \n",
       "mean     128.817286     96.630414      1.366871      1.226457      0.088129   \n",
       "std      154.011419    188.472530      0.680250      0.572270      0.283484   \n",
       "min     -150.000000    -70.000000      1.000000      1.000000      0.000000   \n",
       "25%      120.000000     80.000000      1.000000      1.000000      0.000000   \n",
       "50%      120.000000     80.000000      1.000000      1.000000      0.000000   \n",
       "75%      140.000000     90.000000      2.000000      1.000000      0.000000   \n",
       "max    16020.000000  11000.000000      3.000000      3.000000      1.000000   \n",
       "\n",
       "               alco        active        cardio  \n",
       "count  70000.000000  70000.000000  70000.000000  \n",
       "mean       0.053771      0.803729      0.499700  \n",
       "std        0.225568      0.397179      0.500003  \n",
       "min        0.000000      0.000000      0.000000  \n",
       "25%        0.000000      1.000000      0.000000  \n",
       "50%        0.000000      1.000000      0.000000  \n",
       "75%        0.000000      1.000000      1.000000  \n",
       "max        1.000000      1.000000      1.000000  "
      ]
     },
     "execution_count": 250,
     "metadata": {},
     "output_type": "execute_result"
    }
   ],
   "source": [
    "df.describe()"
   ]
  },
  {
   "cell_type": "code",
   "execution_count": 251,
   "id": "b8c90bee",
   "metadata": {},
   "outputs": [
    {
     "data": {
      "text/plain": [
       "id             0\n",
       "age            0\n",
       "gender         0\n",
       "height         0\n",
       "weight         0\n",
       "ap_hi          0\n",
       "ap_lo          0\n",
       "cholesterol    0\n",
       "gluc           0\n",
       "smoke          0\n",
       "alco           0\n",
       "active         0\n",
       "cardio         0\n",
       "dtype: int64"
      ]
     },
     "execution_count": 251,
     "metadata": {},
     "output_type": "execute_result"
    }
   ],
   "source": [
    "df.isnull().sum()"
   ]
  },
  {
   "cell_type": "code",
   "execution_count": 252,
   "id": "0441d49d",
   "metadata": {},
   "outputs": [
    {
     "data": {
      "text/html": [
       "<div>\n",
       "<style scoped>\n",
       "    .dataframe tbody tr th:only-of-type {\n",
       "        vertical-align: middle;\n",
       "    }\n",
       "\n",
       "    .dataframe tbody tr th {\n",
       "        vertical-align: top;\n",
       "    }\n",
       "\n",
       "    .dataframe thead th {\n",
       "        text-align: right;\n",
       "    }\n",
       "</style>\n",
       "<table border=\"1\" class=\"dataframe\">\n",
       "  <thead>\n",
       "    <tr style=\"text-align: right;\">\n",
       "      <th></th>\n",
       "      <th>age</th>\n",
       "      <th>gender</th>\n",
       "      <th>height</th>\n",
       "      <th>weight</th>\n",
       "      <th>ap_hi</th>\n",
       "      <th>ap_lo</th>\n",
       "      <th>cholesterol</th>\n",
       "      <th>gluc</th>\n",
       "      <th>smoke</th>\n",
       "      <th>alco</th>\n",
       "      <th>active</th>\n",
       "      <th>cardio</th>\n",
       "    </tr>\n",
       "  </thead>\n",
       "  <tbody>\n",
       "    <tr>\n",
       "      <th>0</th>\n",
       "      <td>18393</td>\n",
       "      <td>2</td>\n",
       "      <td>168</td>\n",
       "      <td>62.0</td>\n",
       "      <td>110</td>\n",
       "      <td>80</td>\n",
       "      <td>1</td>\n",
       "      <td>1</td>\n",
       "      <td>0</td>\n",
       "      <td>0</td>\n",
       "      <td>1</td>\n",
       "      <td>0</td>\n",
       "    </tr>\n",
       "    <tr>\n",
       "      <th>1</th>\n",
       "      <td>20228</td>\n",
       "      <td>1</td>\n",
       "      <td>156</td>\n",
       "      <td>85.0</td>\n",
       "      <td>140</td>\n",
       "      <td>90</td>\n",
       "      <td>3</td>\n",
       "      <td>1</td>\n",
       "      <td>0</td>\n",
       "      <td>0</td>\n",
       "      <td>1</td>\n",
       "      <td>1</td>\n",
       "    </tr>\n",
       "    <tr>\n",
       "      <th>2</th>\n",
       "      <td>18857</td>\n",
       "      <td>1</td>\n",
       "      <td>165</td>\n",
       "      <td>64.0</td>\n",
       "      <td>130</td>\n",
       "      <td>70</td>\n",
       "      <td>3</td>\n",
       "      <td>1</td>\n",
       "      <td>0</td>\n",
       "      <td>0</td>\n",
       "      <td>0</td>\n",
       "      <td>1</td>\n",
       "    </tr>\n",
       "    <tr>\n",
       "      <th>3</th>\n",
       "      <td>17623</td>\n",
       "      <td>2</td>\n",
       "      <td>169</td>\n",
       "      <td>82.0</td>\n",
       "      <td>150</td>\n",
       "      <td>100</td>\n",
       "      <td>1</td>\n",
       "      <td>1</td>\n",
       "      <td>0</td>\n",
       "      <td>0</td>\n",
       "      <td>1</td>\n",
       "      <td>1</td>\n",
       "    </tr>\n",
       "    <tr>\n",
       "      <th>4</th>\n",
       "      <td>17474</td>\n",
       "      <td>1</td>\n",
       "      <td>156</td>\n",
       "      <td>56.0</td>\n",
       "      <td>100</td>\n",
       "      <td>60</td>\n",
       "      <td>1</td>\n",
       "      <td>1</td>\n",
       "      <td>0</td>\n",
       "      <td>0</td>\n",
       "      <td>0</td>\n",
       "      <td>0</td>\n",
       "    </tr>\n",
       "  </tbody>\n",
       "</table>\n",
       "</div>"
      ],
      "text/plain": [
       "     age  gender  height  weight  ap_hi  ap_lo  cholesterol  gluc  smoke  \\\n",
       "0  18393       2     168    62.0    110     80            1     1      0   \n",
       "1  20228       1     156    85.0    140     90            3     1      0   \n",
       "2  18857       1     165    64.0    130     70            3     1      0   \n",
       "3  17623       2     169    82.0    150    100            1     1      0   \n",
       "4  17474       1     156    56.0    100     60            1     1      0   \n",
       "\n",
       "   alco  active  cardio  \n",
       "0     0       1       0  \n",
       "1     0       1       1  \n",
       "2     0       0       1  \n",
       "3     0       1       1  \n",
       "4     0       0       0  "
      ]
     },
     "execution_count": 252,
     "metadata": {},
     "output_type": "execute_result"
    }
   ],
   "source": [
    "# drop id col as it is not critical or benificial\n",
    "df = df.drop('id', axis=1)\n",
    "df.head()"
   ]
  },
  {
   "cell_type": "code",
   "execution_count": 253,
   "id": "edd49844",
   "metadata": {},
   "outputs": [
    {
     "data": {
      "text/html": [
       "<div>\n",
       "<style scoped>\n",
       "    .dataframe tbody tr th:only-of-type {\n",
       "        vertical-align: middle;\n",
       "    }\n",
       "\n",
       "    .dataframe tbody tr th {\n",
       "        vertical-align: top;\n",
       "    }\n",
       "\n",
       "    .dataframe thead th {\n",
       "        text-align: right;\n",
       "    }\n",
       "</style>\n",
       "<table border=\"1\" class=\"dataframe\">\n",
       "  <thead>\n",
       "    <tr style=\"text-align: right;\">\n",
       "      <th></th>\n",
       "      <th>age</th>\n",
       "      <th>gender</th>\n",
       "      <th>height</th>\n",
       "      <th>weight</th>\n",
       "      <th>ap_hi</th>\n",
       "      <th>ap_lo</th>\n",
       "      <th>cholesterol</th>\n",
       "      <th>gluc</th>\n",
       "      <th>smoke</th>\n",
       "      <th>alco</th>\n",
       "      <th>active</th>\n",
       "      <th>cardio</th>\n",
       "    </tr>\n",
       "  </thead>\n",
       "  <tbody>\n",
       "    <tr>\n",
       "      <th>0</th>\n",
       "      <td>50.392</td>\n",
       "      <td>2</td>\n",
       "      <td>168</td>\n",
       "      <td>62.0</td>\n",
       "      <td>110</td>\n",
       "      <td>80</td>\n",
       "      <td>1</td>\n",
       "      <td>1</td>\n",
       "      <td>0</td>\n",
       "      <td>0</td>\n",
       "      <td>1</td>\n",
       "      <td>0</td>\n",
       "    </tr>\n",
       "    <tr>\n",
       "      <th>1</th>\n",
       "      <td>55.419</td>\n",
       "      <td>1</td>\n",
       "      <td>156</td>\n",
       "      <td>85.0</td>\n",
       "      <td>140</td>\n",
       "      <td>90</td>\n",
       "      <td>3</td>\n",
       "      <td>1</td>\n",
       "      <td>0</td>\n",
       "      <td>0</td>\n",
       "      <td>1</td>\n",
       "      <td>1</td>\n",
       "    </tr>\n",
       "    <tr>\n",
       "      <th>2</th>\n",
       "      <td>51.663</td>\n",
       "      <td>1</td>\n",
       "      <td>165</td>\n",
       "      <td>64.0</td>\n",
       "      <td>130</td>\n",
       "      <td>70</td>\n",
       "      <td>3</td>\n",
       "      <td>1</td>\n",
       "      <td>0</td>\n",
       "      <td>0</td>\n",
       "      <td>0</td>\n",
       "      <td>1</td>\n",
       "    </tr>\n",
       "    <tr>\n",
       "      <th>3</th>\n",
       "      <td>48.282</td>\n",
       "      <td>2</td>\n",
       "      <td>169</td>\n",
       "      <td>82.0</td>\n",
       "      <td>150</td>\n",
       "      <td>100</td>\n",
       "      <td>1</td>\n",
       "      <td>1</td>\n",
       "      <td>0</td>\n",
       "      <td>0</td>\n",
       "      <td>1</td>\n",
       "      <td>1</td>\n",
       "    </tr>\n",
       "    <tr>\n",
       "      <th>4</th>\n",
       "      <td>47.874</td>\n",
       "      <td>1</td>\n",
       "      <td>156</td>\n",
       "      <td>56.0</td>\n",
       "      <td>100</td>\n",
       "      <td>60</td>\n",
       "      <td>1</td>\n",
       "      <td>1</td>\n",
       "      <td>0</td>\n",
       "      <td>0</td>\n",
       "      <td>0</td>\n",
       "      <td>0</td>\n",
       "    </tr>\n",
       "  </tbody>\n",
       "</table>\n",
       "</div>"
      ],
      "text/plain": [
       "      age  gender  height  weight  ap_hi  ap_lo  cholesterol  gluc  smoke  \\\n",
       "0  50.392       2     168    62.0    110     80            1     1      0   \n",
       "1  55.419       1     156    85.0    140     90            3     1      0   \n",
       "2  51.663       1     165    64.0    130     70            3     1      0   \n",
       "3  48.282       2     169    82.0    150    100            1     1      0   \n",
       "4  47.874       1     156    56.0    100     60            1     1      0   \n",
       "\n",
       "   alco  active  cardio  \n",
       "0     0       1       0  \n",
       "1     0       1       1  \n",
       "2     0       0       1  \n",
       "3     0       1       1  \n",
       "4     0       0       0  "
      ]
     },
     "execution_count": 253,
     "metadata": {},
     "output_type": "execute_result"
    }
   ],
   "source": [
    "# age is in days -> change it to years\n",
    "df['age'] = round(df['age'] / 365, 3)\n",
    "df.head()"
   ]
  },
  {
   "cell_type": "code",
   "execution_count": 254,
   "id": "37a7ab46",
   "metadata": {},
   "outputs": [
    {
     "data": {
      "text/plain": [
       "<AxesSubplot:ylabel='cardio'>"
      ]
     },
     "execution_count": 254,
     "metadata": {},
     "output_type": "execute_result"
    },
    {
     "data": {
      "image/png": "[encoded data removed]",
      "text/plain": [
       "<Figure size 640x480 with 1 Axes>"
      ]
     },
     "metadata": {},
     "output_type": "display_data"
    }
   ],
   "source": [
    "#visualizing in Pie chart of target\n",
    "df['cardio'].value_counts().plot.pie( autopct='%1.1f%%', startangle = 90,  shadow=True, explode=[0.1,0.1], colors=['#B7C3F3','salmon'])"
   ]
  },
  {
   "cell_type": "code",
   "execution_count": 255,
   "id": "36ec8d8e",
   "metadata": {},
   "outputs": [],
   "source": [
    "X = df.drop(\"cardio\", axis = 1)\n",
    "y = df['cardio']"
   ]
  },
  {
   "cell_type": "code",
   "execution_count": 256,
   "id": "011528e1",
   "metadata": {},
   "outputs": [
    {
     "data": {
      "text/plain": [
       "((56000, 11), (14000, 11))"
      ]
     },
     "execution_count": 256,
     "metadata": {},
     "output_type": "execute_result"
    }
   ],
   "source": [
    "X_train, X_test, y_train, y_test = train_test_split(X, y, test_size=0.2, random_state=1234)\n",
    "X_train.shape, X_test.shape"
   ]
  },
  {
   "cell_type": "code",
   "execution_count": 257,
   "id": "11e193e9",
   "metadata": {},
   "outputs": [
    {
     "data": {
      "text/plain": [
       "((56000, 11), (14000, 11))"
      ]
     },
     "execution_count": 257,
     "metadata": {},
     "output_type": "execute_result"
    }
   ],
   "source": [
    "scaler = StandardScaler()\n",
    "\n",
    "# fit the modeling features to the scaler\n",
    "X_train = scaler.fit_transform(X_train)\n",
    "X_test = scaler.transform(X_test)\n",
    "\n",
    "X_train.shape, X_test.shape"
   ]
  },
  {
   "cell_type": "code",
   "execution_count": 258,
   "id": "2eb01909",
   "metadata": {},
   "outputs": [],
   "source": [
    "dt = DecisionTreeClassifier()\n",
    "\n",
    "dt.fit(X_train, y_train)\n",
    "y_pred = dt.predict(X_test)"
   ]
  },
  {
   "cell_type": "code",
   "execution_count": 259,
   "id": "6f505f7a",
   "metadata": {},
   "outputs": [
    {
     "data": {
      "text/plain": [
       "99.97142857142856"
      ]
     },
     "execution_count": 259,
     "metadata": {},
     "output_type": "execute_result"
    }
   ],
   "source": [
    "dt.score(X_train, y_train)*100 "
   ]
  },
  {
   "cell_type": "code",
   "execution_count": 260,
   "id": "4ea64e13",
   "metadata": {
    "scrolled": true
   },
   "outputs": [
    {
     "data": {
      "text/plain": [
       "63.40714285714286"
      ]
     },
     "execution_count": 260,
     "metadata": {},
     "output_type": "execute_result"
    }
   ],
   "source": [
    "dt.score(X_test, y_test)*100"
   ]
  },
  {
   "cell_type": "markdown",
   "id": "e00fca8d",
   "metadata": {},
   "source": [
    "#### We notice the great overfitting in the model"
   ]
  },
  {
   "cell_type": "markdown",
   "id": "cc75b997",
   "metadata": {},
   "source": [
    "## Find the best depth (Tunning):"
   ]
  },
  {
   "cell_type": "code",
   "execution_count": 261,
   "id": "8743586d",
   "metadata": {
    "scrolled": true
   },
   "outputs": [
    {
     "name": "stdout",
     "output_type": "stream",
     "text": [
      "At depth = 3, The Acc {'Train': 72.59, 'Test': 72.55}\n",
      "At depth = 4, The Acc {'Train': 73.04, 'Test': 72.64}\n",
      "At depth = 5, The Acc {'Train': 73.28, 'Test': 72.89}\n",
      "At depth = 6, The Acc {'Train': 73.5, 'Test': 72.94}\n",
      "At depth = 7, The Acc {'Train': 73.86, 'Test': 72.86}\n",
      "At depth = 8, The Acc {'Train': 74.26, 'Test': 72.71}\n"
     ]
    }
   ],
   "source": [
    "max_depth_list = [3, 4, 5, 6, 7 , 8]\n",
    "for i in max_depth_list:\n",
    "    dt = DecisionTreeClassifier(max_depth=i)\n",
    "    dt.fit(X_train, y_train)\n",
    "    y_pred = dt.predict(X_test)\n",
    "    acc_dict = {\"Train\": round(dt.score(X_train, y_train)*100,2) , 'Test': round(dt.score(X_test, y_test)*100,2)}\n",
    "    print(f\"At depth = {i}, The Acc {acc_dict}\")"
   ]
  },
  {
   "cell_type": "code",
   "execution_count": 262,
   "id": "492d0f50",
   "metadata": {},
   "outputs": [
    {
     "name": "stdout",
     "output_type": "stream",
     "text": [
      "At depth = gini, The Acc {'Train': 73.86, 'Test': 72.85}\n",
      "At depth = entropy, The Acc {'Train': 73.81, 'Test': 73.17}\n"
     ]
    }
   ],
   "source": [
    "max_depth_list = [\"gini\" , \"entropy\"]\n",
    "for i in max_depth_list:\n",
    "    dt = DecisionTreeClassifier(max_depth=7, criterion = i)\n",
    "    dt.fit(X_train, y_train)\n",
    "    y_pred = dt.predict(X_test)\n",
    "    acc_dict = {\"Train\": round(dt.score(X_train, y_train)*100,2) , 'Test': round(dt.score(X_test, y_test)*100,2)}\n",
    "    print(f\"At depth = {i}, The Acc {acc_dict}\")"
   ]
  },
  {
   "cell_type": "code",
   "execution_count": 263,
   "id": "89bde2cf",
   "metadata": {},
   "outputs": [],
   "source": [
    "dt = DecisionTreeClassifier(criterion = 'entropy',max_depth=7)\n",
    "\n",
    "dt.fit(X_train, y_train)\n",
    "y_trian\n",
    "y_pred = dt.predict(X_test)"
   ]
  },
  {
   "cell_type": "markdown",
   "id": "8bddf465",
   "metadata": {},
   "source": [
    "#### Train & Test Acc:"
   ]
  },
  {
   "cell_type": "code",
   "execution_count": 264,
   "id": "a9970004",
   "metadata": {},
   "outputs": [
    {
     "data": {
      "text/plain": [
       "{'Train': 73.81, 'Test': 73.17}"
      ]
     },
     "execution_count": 264,
     "metadata": {},
     "output_type": "execute_result"
    }
   ],
   "source": [
    "acc_dict = {\"Train\": round(dt.score(X_train, y_train)*100,2) , 'Test': round(dt.score(X_test, y_test)*100,2)}\n",
    "acc_dict"
   ]
  },
  {
   "cell_type": "markdown",
   "id": "f578c8ca",
   "metadata": {},
   "source": [
    "#### Metrics:"
   ]
  },
  {
   "cell_type": "code",
   "execution_count": 265,
   "id": "943a1e41",
   "metadata": {},
   "outputs": [
    {
     "name": "stdout",
     "output_type": "stream",
     "text": [
      "The Classification Report for Decision Tree Classifier:\n",
      "              precision    recall  f1-score   support\n",
      "\n",
      "           0       0.71      0.79      0.75      7110\n",
      "           1       0.76      0.67      0.71      6890\n",
      "\n",
      "    accuracy                           0.73     14000\n",
      "   macro avg       0.73      0.73      0.73     14000\n",
      "weighted avg       0.73      0.73      0.73     14000\n",
      "\n"
     ]
    }
   ],
   "source": [
    "classification_report_fun(\"Decision Tree\", y_test, y_pred) "
   ]
  },
  {
   "cell_type": "code",
   "execution_count": 266,
   "id": "747d7114",
   "metadata": {},
   "outputs": [
    {
     "name": "stdout",
     "output_type": "stream",
     "text": [
      "[[5649 1461]\n",
      " [2295 4595]]\n"
     ]
    },
    {
     "data": {
      "image/png": "[encoded data removed]",
      "text/plain": [
       "<Figure size 640x480 with 2 Axes>"
      ]
     },
     "metadata": {},
     "output_type": "display_data"
    }
   ],
   "source": [
    "cmatrix_fun(\"Decision Tree\", y_test, y_pred, \"Blues\")"
   ]
  },
  {
   "cell_type": "markdown",
   "id": "5d5ad2c9",
   "metadata": {},
   "source": [
    "## Implemented DT:"
   ]
  },
  {
   "cell_type": "code",
   "execution_count": 267,
   "id": "230cf1f8",
   "metadata": {},
   "outputs": [],
   "source": [
    "# import math\n",
    "# from collections import Counter\n",
    "\n",
    "# class Node:\n",
    "#     def __init__(self, attribute=None, branches=None, label=None):\n",
    "#         self.attribute = attribute\n",
    "#         self.branches = branches if branches else {}\n",
    "#         self.label = label\n",
    "\n",
    "# class DecisionTree_implemented:\n",
    "#     def __init__(self, max_depth=5, min_samples_split=2):\n",
    "#         self.max_depth = max_depth\n",
    "#         self.min_samples_split = min_samples_split\n",
    "\n",
    "#     def Most_Common_Label(self, y):\n",
    "#         count_dict = Counter(y)\n",
    "#         return count_dict.most_common(1)[0][0]\n",
    "    \n",
    "#     def Entropy(self, y):\n",
    "#         total_count = len(y)\n",
    "#         count_dict = Counter(y)\n",
    "#         entropy = 0.0\n",
    "#         for count in count_dict.values():\n",
    "#             probability = count / total_count\n",
    "#             entropy -= probability * math.log2(probability)\n",
    "#         return entropy\n",
    "    \n",
    "#     def InformationGain(self, X, y, attribute):\n",
    "#         parent_entropy = self.Entropy(y)\n",
    "#         weighted_child_entropy = 0.0\n",
    "#         for value in set(X[:, attribute]):\n",
    "#             X_v = X[X[:, attribute] == value]\n",
    "#             y_v = y[X[:, attribute] == value]\n",
    "#             weighted_child_entropy += len(X_v) / len(X) * self.Entropy(y_v)\n",
    "#         return parent_entropy - weighted_child_entropy\n",
    "\n",
    "#     def Choose_Best_Feature(self, X, y):\n",
    "#         best_attribute = None\n",
    "#         best_info_gain = -math.inf\n",
    "#         for attribute in range(X.shape[1]):\n",
    "#             info_gain = self.InformationGain(X, y, attribute)\n",
    "#             if info_gain > best_info_gain:\n",
    "#                 best_attribute = attribute\n",
    "#                 best_info_gain = info_gain\n",
    "#         return best_attribute\n",
    "    \n",
    "#     def _build_tree(self, X, y, depth):\n",
    "#         if depth == self.max_depth or len(X) < self.min_samples_split:\n",
    "#             return Node(label=self.Most_Common_Label(y))\n",
    "        \n",
    "#         best_attribute = self.Choose_Best_Feature(X, y)\n",
    "#         node = Node(attribute=best_attribute)\n",
    "#         for value in set(X[:, best_attribute]):\n",
    "#             X_v = X[X[:, best_attribute] == value]\n",
    "#             y_v = y[X[:, best_attribute] == value]\n",
    "#             node.branches[value] = self._build_tree(X_v, y_v, depth + 1)\n",
    "#         return node\n",
    "    \n",
    "#     def fit(self, X, y):\n",
    "#         self.root = self._build_tree(X, y, depth=0)\n",
    "\n",
    "#     def Classify(self, x, node):\n",
    "#         if node.label is not None:\n",
    "#             return node.label\n",
    "#         value = x[node.attribute]\n",
    "#         if value not in node.branches:\n",
    "#             return self.Most_Common_Label([child.label for child in node.branches.values()])\n",
    "#         return self.Classify(x, node.branches[value])\n",
    "    \n",
    "#     def predict(self, X):\n",
    "#         prediction_list = []\n",
    "#         for x in X:\n",
    "#             prediction_list.append(self.Classify(x, self.root))\n",
    "#         return prediction_list\n"
   ]
  },
  {
   "cell_type": "code",
   "execution_count": 268,
   "id": "c35c924d",
   "metadata": {},
   "outputs": [],
   "source": [
    "import math\n",
    "from collections import Counter\n",
    "\n",
    "class Node:\n",
    "    def __init__(self, attribute=None, branches=None, label=None):\n",
    "        self.attribute = attribute\n",
    "        self.branches = branches if branches else {}\n",
    "        self.label = label\n",
    "\n",
    "class DecisionTree_implemented:\n",
    "    def __init__(self, max_depth=5, min_samples_split=2):\n",
    "        self.max_depth = max_depth\n",
    "        self.min_samples_split = min_samples_split\n",
    "\n",
    "    def fit(self, X, y):\n",
    "        self.root = self._build_tree(X, y, depth=0)\n",
    "\n",
    "    def predict(self, X):\n",
    "        return [self._classify(x, self.root) for x in X]\n",
    "\n",
    "    def _build_tree(self, X, y, depth):\n",
    "        if depth == self.max_depth or len(X) < self.min_samples_split:\n",
    "            return Node(label=self._most_common_label(y))\n",
    "\n",
    "        best_attribute = self._choose_best_attribute(X, y)\n",
    "        node = Node(attribute=best_attribute)\n",
    "\n",
    "        for value in set(X[:, best_attribute]):\n",
    "            X_v = X[X[:, best_attribute] == value]\n",
    "            y_v = y[X[:, best_attribute] == value]\n",
    "            node.branches[value] = self._build_tree(X_v, y_v, depth + 1)\n",
    "\n",
    "        return node\n",
    "\n",
    "    def _classify(self, x, node):\n",
    "        if node.label is not None:\n",
    "            return node.label\n",
    "        value = x[node.attribute]\n",
    "        if value not in node.branches:\n",
    "            return self._most_common_label([child.label for child in node.branches.values()])\n",
    "        return self._classify(x, node.branches[value])\n",
    "\n",
    "    def _choose_best_attribute(self, X, y):\n",
    "        best_attribute = None\n",
    "        best_info_gain = -math.inf\n",
    "        for attribute in range(X.shape[1]):\n",
    "            info_gain = self._information_gain(X, y, attribute)\n",
    "            if info_gain > best_info_gain:\n",
    "                best_attribute = attribute\n",
    "                best_info_gain = info_gain\n",
    "        return best_attribute\n",
    "\n",
    "    def _information_gain(self, X, y, attribute):\n",
    "        parent_entropy = self._entropy(y)\n",
    "        weighted_child_entropy = 0.0\n",
    "        for value in set(X[:, attribute]):\n",
    "            X_v = X[X[:, attribute] == value]\n",
    "            y_v = y[X[:, attribute] == value]\n",
    "            weighted_child_entropy += len(X_v) / len(X) * self._entropy(y_v)\n",
    "        return parent_entropy - weighted_child_entropy\n",
    "\n",
    "    def _entropy(self, y):\n",
    "        total_count = len(y)\n",
    "        count_dict = Counter(y)\n",
    "        entropy = 0.0\n",
    "        for count in count_dict.values():\n",
    "            probability = count / total_count\n",
    "            entropy -= probability * math.log2(probability)\n",
    "        return entropy\n",
    "\n",
    "    def _most_common_label(self, y):\n",
    "        count_dict = Counter(y)\n",
    "        return count_dict.most_common(1)[0][0]\n"
   ]
  },
  {
   "cell_type": "code",
   "execution_count": 269,
   "id": "d1c952ed",
   "metadata": {},
   "outputs": [
    {
     "ename": "AttributeError",
     "evalue": "'DecisionTree' object has no attribute '_build_tree'",
     "output_type": "error",
     "traceback": [
      "\u001b[1;31m---------------------------------------------------------------------------\u001b[0m",
      "\u001b[1;31mAttributeError\u001b[0m                            Traceback (most recent call last)",
      "\u001b[1;32m~\\AppData\\Local\\Temp\\ipykernel_11608\\1491918133.py\u001b[0m in \u001b[0;36m<module>\u001b[1;34m\u001b[0m\n\u001b[0;32m      1\u001b[0m \u001b[0mdt_implement\u001b[0m \u001b[1;33m=\u001b[0m \u001b[0mDecisionTree\u001b[0m\u001b[1;33m(\u001b[0m\u001b[1;33m)\u001b[0m\u001b[1;33m\u001b[0m\u001b[1;33m\u001b[0m\u001b[0m\n\u001b[0;32m      2\u001b[0m \u001b[1;33m\u001b[0m\u001b[0m\n\u001b[1;32m----> 3\u001b[1;33m \u001b[0mdt_implement\u001b[0m\u001b[1;33m.\u001b[0m\u001b[0mfit\u001b[0m\u001b[1;33m(\u001b[0m\u001b[0mX_train\u001b[0m\u001b[1;33m,\u001b[0m \u001b[0my_train\u001b[0m\u001b[1;33m)\u001b[0m\u001b[1;33m\u001b[0m\u001b[1;33m\u001b[0m\u001b[0m\n\u001b[0m\u001b[0;32m      4\u001b[0m \u001b[0my_trian\u001b[0m\u001b[1;33m\u001b[0m\u001b[1;33m\u001b[0m\u001b[0m\n\u001b[0;32m      5\u001b[0m \u001b[0my_pred_implemented\u001b[0m \u001b[1;33m=\u001b[0m \u001b[0mdt_implement\u001b[0m\u001b[1;33m.\u001b[0m\u001b[0mpredict\u001b[0m\u001b[1;33m(\u001b[0m\u001b[0mX_test\u001b[0m\u001b[1;33m)\u001b[0m\u001b[1;33m\u001b[0m\u001b[1;33m\u001b[0m\u001b[0m\n",
      "\u001b[1;32m~\\Documents\\GitHub\\Task4_Desicion_Tree_Implementation\\DecisionTree.py\u001b[0m in \u001b[0;36mfit\u001b[1;34m(self, X, y)\u001b[0m\n",
      "\u001b[1;31mAttributeError\u001b[0m: 'DecisionTree' object has no attribute '_build_tree'"
     ]
    }
   ],
   "source": [
    "dt_implement = DecisionTree()\n",
    "\n",
    "dt_implement.fit(X_train, y_train)\n",
    "y_trian\n",
    "y_pred_implemented = dt_implement.predict(X_test)\n",
    "y_pred_implemented"
   ]
  },
  {
   "cell_type": "code",
   "execution_count": null,
   "id": "7197ee95",
   "metadata": {},
   "outputs": [],
   "source": [
    "round(accuracy(y_pred_implemented, y_test)*100, 2)"
   ]
  },
  {
   "cell_type": "code",
   "execution_count": null,
   "id": "ff7d62c8",
   "metadata": {},
   "outputs": [],
   "source": [
    "classification_report_fun(model_name, actual, predicted) "
   ]
  },
  {
   "cell_type": "code",
   "execution_count": null,
   "id": "d9bdf1ea",
   "metadata": {},
   "outputs": [],
   "source": [
    "cmatrix_fun(model_name, actual, predicted, color)"
   ]
  },
  {
   "cell_type": "markdown",
   "id": "1e760747",
   "metadata": {},
   "source": [
    "## remove the null values in prediction:"
   ]
  },
  {
   "cell_type": "code",
   "execution_count": null,
   "id": "b78033f2",
   "metadata": {},
   "outputs": [],
   "source": [
    "result_pred_imp = pd.DataFrame({'Predictions':y_pred_implemented, 'Actual':y_test})\n",
    "result_pred_imp"
   ]
  },
  {
   "cell_type": "code",
   "execution_count": null,
   "id": "90c7162f",
   "metadata": {
    "scrolled": true
   },
   "outputs": [],
   "source": [
    "result_pred_imp.info()"
   ]
  },
  {
   "cell_type": "code",
   "execution_count": null,
   "id": "06ed5920",
   "metadata": {},
   "outputs": [],
   "source": [
    "result_pred_imp.isnull().sum()"
   ]
  },
  {
   "cell_type": "code",
   "execution_count": null,
   "id": "4f74b9a2",
   "metadata": {},
   "outputs": [],
   "source": [
    "fill_list = result_pred_imp['Predictions'].dropna().tolist()\n",
    "result_pred_imp['Predictions'] = result_pred_imp['Predictions'].fillna(pd.Series(np.random.choice(fill_list , size = len(df.index))))"
   ]
  },
  {
   "cell_type": "code",
   "execution_count": null,
   "id": "55255416",
   "metadata": {
    "scrolled": true
   },
   "outputs": [],
   "source": [
    "result_pred_imp.isnull().sum()"
   ]
  },
  {
   "cell_type": "markdown",
   "id": "5750a159",
   "metadata": {},
   "source": [
    "#### acc after removing the null value:"
   ]
  },
  {
   "cell_type": "code",
   "execution_count": null,
   "id": "0805f98e",
   "metadata": {},
   "outputs": [],
   "source": [
    "round(accuracy(result_pred_imp['Predictions'], y_test)*100, 2)"
   ]
  },
  {
   "cell_type": "code",
   "execution_count": null,
   "id": "7e22d204",
   "metadata": {},
   "outputs": [],
   "source": []
  }
 ],
 "metadata": {
  "kernelspec": {
   "display_name": "Python 3 (ipykernel)",
   "language": "python",
   "name": "python3"
  },
  "language_info": {
   "codemirror_mode": {
    "name": "ipython",
    "version": 3
   },
   "file_extension": ".py",
   "mimetype": "text/x-python",
   "name": "python",
   "nbconvert_exporter": "python",
   "pygments_lexer": "ipython3",
   "version": "3.9.13"
  }
 },
 "nbformat": 4,
 "nbformat_minor": 5
}
